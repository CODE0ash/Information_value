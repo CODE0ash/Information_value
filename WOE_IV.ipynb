{
 "cells": [
  {
   "cell_type": "code",
   "execution_count": 3,
   "metadata": {},
   "outputs": [],
   "source": []
  },
  {
   "cell_type": "code",
   "execution_count": 2,
   "metadata": {},
   "outputs": [
    {
     "data": {
      "text/plain": [
       "4.59511985013459"
      ]
     },
     "execution_count": 2,
     "metadata": {},
     "output_type": "execute_result"
    }
   ],
   "source": [
    "np.log(99)"
   ]
  },
  {
   "cell_type": "code",
   "execution_count": 120,
   "metadata": {},
   "outputs": [],
   "source": [
    "import numpy as np\n",
    "import pandas as pd\n",
    "\n",
    "\n",
    "def woe(x,non_e,ev):\n",
    "    \n",
    "    lx = len(x)\n",
    "    sx = sum(x)\n",
    "    \n",
    "    \n",
    "    if (lx ==sx )or (sx ==0):\n",
    "        return {'mean':np.log(  (( lx - sx + 0.5)/ non_e )/(( sx + 0.5)/ ev )       ),\n",
    "            'count':lx,\n",
    "               'nonevent':( lx - sx + 0.5),\n",
    "                'nd': non_e ,\n",
    "                'event': ( sx + 0.5),\n",
    "                'ed': ev \n",
    "                \n",
    "               \n",
    "               \n",
    "               \n",
    "               }\n",
    "    \n",
    "    return {'mean':np.log(  ( lx - sx)/sx),\n",
    "            'count':lx,\n",
    "           \n",
    "               'nonevent':( lx - sx),\n",
    "                'nd': (non_e+ev) ,\n",
    "                'event': ( sx  )  ,\n",
    "                'ed': (non_e+ev )\n",
    "            \n",
    "        \n",
    "           }\n",
    "\n",
    "\n",
    "\n",
    "def calculate_iv(x):\n",
    "    \n",
    "    return (x['nonevent'].sum()/x['nd'].sum() - x['event'].sum()/x['ed'].sum())*x['mean'].iloc[0]\n",
    "    \n",
    "    \n",
    "\n",
    "\n",
    "\n",
    "\n",
    "def woe_continous(data,y,features=[],bins=10,min_per_threshold =5):\n",
    "    \n",
    "    \n",
    "    \n",
    "    min_count_threshold = round(len(y)*min_per_threshold/100)\n",
    "    \n",
    "    if len(features)==0:\n",
    "        \n",
    "        features = data.columns.to_list()\n",
    "        \n",
    "    sense_pearson = dict({})\n",
    "    iv = dict({})    \n",
    "    for i in features:\n",
    "        data[i+'_bin'] = pd.cut(\n",
    "        \n",
    "        data[i],\n",
    "            sorted(np.unique(\n",
    "                data[i].quantile(np.array(range(bins+1))/bins)\n",
    "            )), include_lowest= True\n",
    "        )\n",
    "        \n",
    "        \n",
    "        \n",
    "        \n",
    "        \n",
    "        \n",
    "        #dp = data.groupby(i+'_bin')[y].agg({'mean','count'})\n",
    "        \n",
    "        non_e =  len(data[y]) - data[y].sum()\n",
    "        ev = data[y].sum()\n",
    "        dp  = data.groupby(i+'_bin')[y].apply(lambda x: woe(x,non_e,ev   )).reset_index().pivot(index = (i+'_bin') ,\n",
    "                                                                         values=y,columns='level_1')\n",
    "        \n",
    "        \n",
    "        \n",
    "        \n",
    "        place = np.where((dp['count'] < min_count_threshold).to_list())\n",
    "        \n",
    "        \n",
    "        if False:#len(place[0])>0:\n",
    "            rep = []\n",
    "            \n",
    "            indices = [dp.index[jk] for jk in place[0]]\n",
    "            \n",
    "            for jk in indices:\n",
    "                jk_int = np.where(dp.index == jk)[0][0]\n",
    "                replace = jk_int +1 if (jk_int+1 < len(dp['count'])) else jk_int -1\n",
    "                \n",
    "                \n",
    "                \n",
    "                dp.iloc[replace,:]['mean']= (dp.iloc[replace,:]['mean']+dp.iloc[replace,:]['count']\n",
    "                                             \n",
    "                                             + dp.iloc[jk_int:]['mean'] + dp.iloc[jk_int,:]['count']\n",
    "                                            \n",
    "                                            )/(\n",
    "                                            \n",
    "                                            dp.iloc[replace,:]['count'] + dp.iloc[jk_int,:]['count']\n",
    "                                            \n",
    "                                            )\n",
    "                \n",
    "                dp.iloc[replace,:]['count']=dp.iloc[replace,:]['count'] + dp.iloc[jk_int,:]['count']\n",
    "                \n",
    "                dp = dp.drop(jk)\n",
    "                \n",
    "                \n",
    "        \n",
    "        if(dp.shape[0]>1):# and (   (dp['mean'].max() - dp['mean'].min()) >=0.03       ):\n",
    "            sense_pearson[i] = dp\n",
    "            iv[i] = dp.groupby('mean').apply(lambda x: calculate_iv(x)).sum()\n",
    "            \n",
    "            \n",
    "            #.apply(lambda x: (x.nonevent - x.event)*x['mean'],axis =1).sum()\n",
    "            \n",
    "            \n",
    "        \n",
    "    return sense_pearson,iv\n",
    "            \n",
    "            \n",
    "        "
   ]
  },
  {
   "cell_type": "code",
   "execution_count": 29,
   "metadata": {},
   "outputs": [],
   "source": [
    "f.pivot??"
   ]
  },
  {
   "cell_type": "code",
   "execution_count": 40,
   "metadata": {},
   "outputs": [
    {
     "data": {
      "text/plain": [
       "array([0.70948938, 0.77374836, 0.78201013, 0.40063189, 0.31519794,\n",
       "       0.65357714, 0.6984934 , 0.91741886, 0.06770876, 0.45579438])"
      ]
     },
     "execution_count": 40,
     "metadata": {},
     "output_type": "execute_result"
    }
   ],
   "source": [
    "np.random.random((100))"
   ]
  },
  {
   "cell_type": "code",
   "execution_count": 93,
   "metadata": {},
   "outputs": [],
   "source": [
    "f = pd.DataFrame({\n",
    "    'val':np.random.random((100))\n",
    "    ,'y':[ 1 if i>0.5 else 0 for i in np.random.random((100))]\n",
    "    \n",
    "    \n",
    "    \n",
    "})\n",
    "\n",
    "#f.groupby('group').y.apply(lambda x: woe(x)).reset_index().pivot(index = 'group' ,\n",
    "#                                                                 values='y',columns='level_1')\n",
    "#\n",
    "#"
   ]
  },
  {
   "cell_type": "code",
   "execution_count": null,
   "metadata": {},
   "outputs": [],
   "source": []
  },
  {
   "cell_type": "code",
   "execution_count": 121,
   "metadata": {},
   "outputs": [
    {
     "data": {
      "text/plain": [
       "({'val': level_1           count     ed  event      mean     nd  nonevent\n",
       "  val_bin                                                         \n",
       "  (0.00204, 0.092]   10.0  100.0    3.0  0.847298  100.0       7.0\n",
       "  (0.092, 0.235]     10.0  100.0    4.0  0.405465  100.0       6.0\n",
       "  (0.235, 0.324]     10.0  100.0    6.0 -0.405465  100.0       4.0\n",
       "  (0.324, 0.412]     10.0  100.0    4.0  0.405465  100.0       6.0\n",
       "  (0.412, 0.565]     10.0  100.0    5.0  0.000000  100.0       5.0\n",
       "  (0.565, 0.666]     10.0  100.0    4.0  0.405465  100.0       6.0\n",
       "  (0.666, 0.761]     10.0  100.0    4.0  0.405465  100.0       6.0\n",
       "  (0.761, 0.858]     10.0  100.0    5.0  0.000000  100.0       5.0\n",
       "  (0.858, 0.933]     10.0  100.0    8.0 -1.386294  100.0       2.0\n",
       "  (0.933, 0.995]     10.0  100.0    2.0  1.386294  100.0       8.0},\n",
       " {'val': 0.21646584207420155})"
      ]
     },
     "execution_count": 121,
     "metadata": {},
     "output_type": "execute_result"
    }
   ],
   "source": [
    " woe_continous(data=f,y='y',features=['val'],bins=10,min_per_threshold =5)"
   ]
  },
  {
   "cell_type": "code",
   "execution_count": 108,
   "metadata": {},
   "outputs": [
    {
     "data": {
      "text/plain": [
       "<matplotlib.axes._subplots.AxesSubplot at 0x172c29261c8>"
      ]
     },
     "execution_count": 108,
     "metadata": {},
     "output_type": "execute_result"
    },
    {
     "data": {
      "image/png": "[encoded data removed]",
      "text/plain": [
       "<Figure size 432x288 with 1 Axes>"
      ]
     },
     "metadata": {
      "needs_background": "light"
     },
     "output_type": "display_data"
    }
   ],
   "source": [
    " woe_continous(data=f,y='y',features=['val'],bins=10,min_per_threshold =5)[0]['val']['mean'].plot.bar()"
   ]
  },
  {
   "cell_type": "code",
   "execution_count": 118,
   "metadata": {},
   "outputs": [],
   "source": [
    "\n",
    "\n",
    "\n",
    "\n",
    "        \n",
    "        \n",
    "    \n",
    "    \n",
    "    \n",
    "    \n",
    "    \n",
    "    \n",
    "    \n",
    "    "
   ]
  },
  {
   "cell_type": "code",
   "execution_count": null,
   "metadata": {},
   "outputs": [],
   "source": []
  }
 ],
 "metadata": {
  "kernelspec": {
   "display_name": "Python 3",
   "language": "python",
   "name": "python3"
  },
  "language_info": {
   "codemirror_mode": {
    "name": "ipython",
    "version": 3
   },
   "file_extension": ".py",
   "mimetype": "text/x-python",
   "name": "python",
   "nbconvert_exporter": "python",
   "pygments_lexer": "ipython3",
   "version": "3.7.6"
  }
 },
 "nbformat": 4,
 "nbformat_minor": 4
}
